{
  "cells": [
    {
      "cell_type": "markdown",
      "metadata": {
        "id": "view-in-github",
        "colab_type": "text"
      },
      "source": [
        "<a href=\"https://colab.research.google.com/github/bassemr/DeepLearningAndGenerativeModelsCourse/blob/main/ex5.ipynb\" target=\"_parent\"><img src=\"https://colab.research.google.com/assets/colab-badge.svg\" alt=\"Open In Colab\"/></a>"
      ]
    },
    {
      "cell_type": "markdown",
      "id": "436cd3c4-5d34-4820-b1ed-6be4c0739e93",
      "metadata": {
        "id": "436cd3c4-5d34-4820-b1ed-6be4c0739e93"
      },
      "source": [
        "# CNN vs MLP\n",
        "In this notebook it will be showed how to train a CNN and what are its advantages (and disanvantages) with respect to a fully connected network."
      ]
    },
    {
      "cell_type": "code",
      "execution_count": 115,
      "id": "cd788809-d878-4c4c-ac10-2457880c5b00",
      "metadata": {
        "colab": {
          "base_uri": "https://localhost:8080/"
        },
        "id": "cd788809-d878-4c4c-ac10-2457880c5b00",
        "outputId": "ab8a8ac2-4956-458f-ff6e-ae8d40214447"
      },
      "outputs": [
        {
          "output_type": "execute_result",
          "data": {
            "text/plain": [
              "<torch._C.Generator at 0x7ae8eb750470>"
            ]
          },
          "metadata": {},
          "execution_count": 115
        }
      ],
      "source": [
        "import torch\n",
        "import torch.nn as nn\n",
        "import torch.nn.functional as F\n",
        "import torch.optim as optim\n",
        "from torchvision import datasets, transforms\n",
        "import matplotlib.pyplot as plt\n",
        "import numpy\n",
        "\n",
        "torch.manual_seed(0)"
      ]
    },
    {
      "cell_type": "code",
      "execution_count": 116,
      "id": "bd8dfccd-aa38-433c-bf97-11196763a355",
      "metadata": {
        "id": "bd8dfccd-aa38-433c-bf97-11196763a355"
      },
      "outputs": [],
      "source": [
        "# function to count number of parameters\n",
        "def get_n_params(model):\n",
        "    np=0\n",
        "    for p in list(model.parameters()):\n",
        "        np += p.nelement()\n",
        "    return np"
      ]
    },
    {
      "cell_type": "code",
      "source": [
        "a = torch.randn(3,3)\n",
        "a.numel()"
      ],
      "metadata": {
        "colab": {
          "base_uri": "https://localhost:8080/"
        },
        "id": "Ik9H0_4yZTTt",
        "outputId": "64b1ab1e-faf2-428b-ac44-3f070d0ec621"
      },
      "id": "Ik9H0_4yZTTt",
      "execution_count": 117,
      "outputs": [
        {
          "output_type": "execute_result",
          "data": {
            "text/plain": [
              "9"
            ]
          },
          "metadata": {},
          "execution_count": 117
        }
      ]
    },
    {
      "cell_type": "markdown",
      "id": "4211b204-67e2-4f3a-aeb6-328e45f08f0b",
      "metadata": {
        "id": "4211b204-67e2-4f3a-aeb6-328e45f08f0b"
      },
      "source": [
        "## Dataset Loading\n",
        "First step we need to load the dataset that will be used for train and test.\n",
        "\n",
        "In this case MNIST dataset will be used. MNIST consist in black and white images of handwritten digits between 0-9.\n",
        "\n",
        "Pytorch Dataloaders will be used for this task."
      ]
    },
    {
      "cell_type": "code",
      "source": [
        "!ls"
      ],
      "metadata": {
        "id": "OvD4K93xhiE2",
        "outputId": "7cf73a9f-d7ec-4d02-e424-4010cb9d50da",
        "colab": {
          "base_uri": "https://localhost:8080/"
        }
      },
      "id": "OvD4K93xhiE2",
      "execution_count": 118,
      "outputs": [
        {
          "output_type": "stream",
          "name": "stdout",
          "text": [
            "data  res  sample_data\n"
          ]
        }
      ]
    },
    {
      "cell_type": "code",
      "execution_count": 119,
      "id": "7f329a51-c2ca-404d-8b04-42c56dc7125e",
      "metadata": {
        "id": "7f329a51-c2ca-404d-8b04-42c56dc7125e"
      },
      "outputs": [],
      "source": [
        "input_size  = 28*28   # images are 28x28 pixels\n",
        "output_size = 10      # there are 10 classes\n",
        "\n",
        "# TRAIN dataset\n",
        "# Pytorch already has some datasets available for downlaod\n",
        "train_dataset = datasets.MNIST('./data', train=True, download=True,\n",
        "                       # transforms that we want to apply when iterating the dataset\n",
        "                   transform=transforms.Compose([\n",
        "                       transforms.ToTensor(),\n",
        "                       # mean and std of MNIST dataset\n",
        "                       transforms.Normalize((0.1307,), (0.3081,))\n",
        "                   ]))\n",
        "\n",
        "# The dataloader will iterate through the dataset and load the data in memory\n",
        "train_loader = torch.utils.data.DataLoader(\n",
        "                        train_dataset,\n",
        "                        batch_size=64, shuffle=True)\n",
        "\n",
        "# TEST dataset\n",
        "test_loader = torch.utils.data.DataLoader(\n",
        "    datasets.MNIST('./data', train=False, transform=transforms.Compose([\n",
        "                       transforms.ToTensor(),\n",
        "                       transforms.Normalize((0.1307,), (0.3081,))\n",
        "                   ])),\n",
        "    batch_size=1000, shuffle=False)"
      ]
    },
    {
      "cell_type": "code",
      "execution_count": 120,
      "id": "35da7a46-3778-4225-baef-456c3d16d93a",
      "metadata": {
        "colab": {
          "base_uri": "https://localhost:8080/"
        },
        "id": "35da7a46-3778-4225-baef-456c3d16d93a",
        "outputId": "ebb5f21e-8384-496c-9189-bd9b76743be0"
      },
      "outputs": [
        {
          "output_type": "stream",
          "name": "stdout",
          "text": [
            "60000 938\n"
          ]
        }
      ],
      "source": [
        "print(len(train_dataset), len(train_loader)) #WHY?"
      ]
    },
    {
      "cell_type": "code",
      "source": [
        "!mkdir -p res\n",
        "!wget https://raw.githubusercontent.com/TFonta/DeepLearningAndGenerativeModelsCourse/main/res/plot_lib.py -O res/plot_lib.py\n"
      ],
      "metadata": {
        "id": "xYL-l_-8ioXy",
        "outputId": "2ef1430a-3a83-42bf-ef2a-97f7d8e59482",
        "colab": {
          "base_uri": "https://localhost:8080/"
        }
      },
      "id": "xYL-l_-8ioXy",
      "execution_count": 121,
      "outputs": [
        {
          "output_type": "stream",
          "name": "stdout",
          "text": [
            "--2025-09-09 11:40:13--  https://raw.githubusercontent.com/TFonta/DeepLearningAndGenerativeModelsCourse/main/res/plot_lib.py\n",
            "Resolving raw.githubusercontent.com (raw.githubusercontent.com)... 185.199.108.133, 185.199.109.133, 185.199.110.133, ...\n",
            "Connecting to raw.githubusercontent.com (raw.githubusercontent.com)|185.199.108.133|:443... connected.\n",
            "HTTP request sent, awaiting response... 200 OK\n",
            "Length: 5017 (4.9K) [text/plain]\n",
            "Saving to: ‘res/plot_lib.py’\n",
            "\n",
            "\rres/plot_lib.py       0%[                    ]       0  --.-KB/s               \rres/plot_lib.py     100%[===================>]   4.90K  --.-KB/s    in 0s      \n",
            "\n",
            "2025-09-09 11:40:13 (45.8 MB/s) - ‘res/plot_lib.py’ saved [5017/5017]\n",
            "\n"
          ]
        }
      ]
    },
    {
      "cell_type": "code",
      "execution_count": 122,
      "id": "63e5dbf3-3317-4db1-83aa-2e36fa218d12",
      "metadata": {
        "id": "63e5dbf3-3317-4db1-83aa-2e36fa218d12"
      },
      "outputs": [],
      "source": [
        "# plotting libs\n",
        "from res.plot_lib import plot_data, plot_model, set_default\n",
        "set_default()"
      ]
    },
    {
      "cell_type": "code",
      "execution_count": 123,
      "id": "f9d8f5ac-0093-43a4-83d7-be458323bf86",
      "metadata": {
        "colab": {
          "base_uri": "https://localhost:8080/",
          "height": 499
        },
        "id": "f9d8f5ac-0093-43a4-83d7-be458323bf86",
        "outputId": "a03deaca-70d2-4676-87f2-71c1734303b0"
      },
      "outputs": [
        {
          "output_type": "display_data",
          "data": {
            "text/plain": [
              "<Figure size 1600x600 with 10 Axes>"
            ],
            "image/png": "[encoded data removed]"
          },
          "metadata": {}
        }
      ],
      "source": [
        "# show some images\n",
        "def denorm_mnist(x):\n",
        "    m = 0.1307\n",
        "    std = 0.3081\n",
        "    # denormalization operation = std*x + m\n",
        "    return x*std + m\n",
        "\n",
        "to_pil = transforms.ToPILImage()\n",
        "plt.figure(figsize=(16, 6))\n",
        "for i in range(10):\n",
        "    plt.subplot(2, 5, i + 1)\n",
        "    image, _ = train_loader.dataset.__getitem__(i) # load one image\n",
        "    plt.imshow(to_pil(denorm_mnist(image)))\n",
        "    plt.axis('off')"
      ]
    },
    {
      "cell_type": "markdown",
      "id": "4494f259-b9c6-4edb-bf13-eedb2edbfcd6",
      "metadata": {
        "id": "4494f259-b9c6-4edb-bf13-eedb2edbfcd6"
      },
      "source": [
        "## Network Definition\n",
        "Let's define an MLP and a CNN to solve the MNIST digit classification task."
      ]
    },
    {
      "cell_type": "code",
      "source": [
        "t= torch.randn(2,20,20)\n",
        "t.view(-1,2).shape, nn.Flatten()(t).shape"
      ],
      "metadata": {
        "id": "sdjLtVimmHzX",
        "outputId": "fe161db8-e440-4e90-f655-cac12d03f516",
        "colab": {
          "base_uri": "https://localhost:8080/"
        }
      },
      "id": "sdjLtVimmHzX",
      "execution_count": 124,
      "outputs": [
        {
          "output_type": "execute_result",
          "data": {
            "text/plain": [
              "(torch.Size([400, 2]), torch.Size([2, 400]))"
            ]
          },
          "metadata": {},
          "execution_count": 124
        }
      ]
    },
    {
      "cell_type": "code",
      "execution_count": 125,
      "id": "f08da12a-4dd9-42de-8900-fecabec661b8",
      "metadata": {
        "id": "f08da12a-4dd9-42de-8900-fecabec661b8"
      },
      "outputs": [],
      "source": [
        "# MLP\n",
        "class FC2Layer(nn.Module):\n",
        "    def __init__(self, input_size, n_hidden, output_size):\n",
        "        super(FC2Layer, self).__init__()\n",
        "        self.input_size = input_size\n",
        "        self.network = nn.Sequential(\n",
        "            nn.Linear(input_size, n_hidden),\n",
        "            nn.ReLU(),\n",
        "            nn.Linear(n_hidden, n_hidden),\n",
        "            nn.ReLU(),\n",
        "            nn.Linear(n_hidden, output_size),\n",
        "            nn.LogSoftmax(dim=1)\n",
        "        )\n",
        "\n",
        "    def forward(self, x):\n",
        "        x = x.view(-1, self.input_size) # flatten\n",
        "        return self.network(x)\n",
        "\n",
        "# CNN\n",
        "class CNN(nn.Module):\n",
        "    def __init__(self, input_size, n_feature, output_size):\n",
        "        super(CNN, self).__init__()\n",
        "        self.n_feature = n_feature\n",
        "\n",
        "        self.conv_block1 = nn.Sequential(\n",
        "            nn.Conv2d(in_channels=1, out_channels=n_feature, kernel_size=5),\n",
        "            nn.ReLU(),\n",
        "            nn.MaxPool2d(kernel_size=2))\n",
        "\n",
        "        self.conv_block2 = nn.Sequential(\n",
        "            nn.Conv2d(in_channels=n_feature, out_channels=n_feature, kernel_size=5),\n",
        "            nn.ReLU(),\n",
        "            nn.MaxPool2d(kernel_size=2))\n",
        "\n",
        "        self.fc1 = nn.Linear(n_feature*4*4, 50)\n",
        "        self.fc2 = nn.Linear(50, 10)\n",
        "\n",
        "    def forward(self, x, verbose=False):\n",
        "        x = self.conv_block1(x) # what is the output size?12\n",
        "        x = self.conv_block2(x) # what is the output size?4\n",
        "        x = x.view(-1, self.n_feature*4*4) # flatten\n",
        "        x = self.fc1(x)\n",
        "        x = F.relu(x)\n",
        "        x = self.fc2(x)\n",
        "        x = F.log_softmax(x, dim=1)\n",
        "        return x"
      ]
    },
    {
      "cell_type": "code",
      "source": [
        "len(train_loader)"
      ],
      "metadata": {
        "id": "7J3MC53irT_p",
        "outputId": "3f9747b1-87d5-405f-dbf0-dae0dcb9d142",
        "colab": {
          "base_uri": "https://localhost:8080/"
        }
      },
      "id": "7J3MC53irT_p",
      "execution_count": 126,
      "outputs": [
        {
          "output_type": "execute_result",
          "data": {
            "text/plain": [
              "938"
            ]
          },
          "metadata": {},
          "execution_count": 126
        }
      ]
    },
    {
      "cell_type": "code",
      "execution_count": 127,
      "id": "b89131d8-3e7d-4a01-b6f7-5ab6c912bbad",
      "metadata": {
        "colab": {
          "base_uri": "https://localhost:8080/"
        },
        "id": "b89131d8-3e7d-4a01-b6f7-5ab6c912bbad",
        "outputId": "b882b3cf-d077-49a2-97b0-fa969b8ec9c6"
      },
      "outputs": [
        {
          "output_type": "execute_result",
          "data": {
            "text/plain": [
              "device(type='cpu')"
            ]
          },
          "metadata": {},
          "execution_count": 127
        }
      ],
      "source": [
        "# set device\n",
        "device = torch.device(\"cuda:0\" if torch.cuda.is_available() else \"cpu\")\n",
        "device"
      ]
    },
    {
      "cell_type": "code",
      "execution_count": 145,
      "id": "83fec976-2594-4333-ae34-c50dbb7b2081",
      "metadata": {
        "id": "83fec976-2594-4333-ae34-c50dbb7b2081"
      },
      "outputs": [],
      "source": [
        "# define train and test function\n",
        "accuracy_list = []\n",
        "def train(epoch, model, optimizer, perm=None):\n",
        "    train_loss = 0\n",
        "    model.train()\n",
        "    # dataloader will iterate the dataset and return images (data)\n",
        "    # and labels (target)\n",
        "    for batch_idx, (data, target) in enumerate(train_loader):\n",
        "\n",
        "        # send to device\n",
        "        data, target = data.to(device), target.to(device)\n",
        "\n",
        "        # permute pixels\n",
        "        data = data.view(-1, 28*28)\n",
        "        data = data[:, perm]\n",
        "        data = data.view(-1, 1, 28, 28)\n",
        "\n",
        "        optimizer.zero_grad()\n",
        "        output = model(data)\n",
        "        loss = F.nll_loss(output, target)\n",
        "        loss.backward()\n",
        "        optimizer.step()\n",
        "        train_loss += loss.item()           # add average per sample\n",
        "        if batch_idx % 100 == 0:\n",
        "            print('Train Epoch: {} [{}/{} ({:.0f}%)]\\tLoss: {:.6f}'.format(\n",
        "                epoch, batch_idx * len(data), len(train_loader.dataset),\n",
        "                100. * batch_idx / len(train_loader), loss.item()))\n",
        "    print(f\"train_loss: {train_loss/len(train_loader)}\")\n",
        "\n",
        "def test(model, perm=None):\n",
        "    model.eval()\n",
        "    test_loss = 0\n",
        "    correct = 0\n",
        "    for data, target in test_loader:\n",
        "        # send to device\n",
        "        data, target = data.to(device), target.to(device)\n",
        "\n",
        "        # permute pixels\n",
        "        data = data.view(-1, 28*28)\n",
        "        data = data[:, perm]\n",
        "        data = data.view(-1, 1, 28, 28)\n",
        "\n",
        "        output = model(data)\n",
        "        test_loss += F.nll_loss(output, target, reduction='sum').item() # sum up batch loss\n",
        "        pred = output.data.max(1, keepdim=True)[1] # get the index of the max log-probability\n",
        "        correct += pred.eq(target.data.view_as(pred)).cpu().sum().item()\n",
        "\n",
        "    test_loss /= len(test_loader.dataset)\n",
        "    accuracy = 100. * correct / len(test_loader.dataset)\n",
        "    accuracy_list.append(accuracy)\n",
        "    print('\\nTest set: Average loss: {:.4f}, Accuracy: {}/{} ({:.0f}%)\\n'.format(\n",
        "        test_loss, correct, len(test_loader.dataset),\n",
        "        accuracy))"
      ]
    },
    {
      "cell_type": "code",
      "source": [
        "len(train_loader)"
      ],
      "metadata": {
        "id": "B07AGIKqze3G",
        "outputId": "4ec9b9c7-35ad-4526-e114-17343e5ebf36",
        "colab": {
          "base_uri": "https://localhost:8080/"
        }
      },
      "id": "B07AGIKqze3G",
      "execution_count": 129,
      "outputs": [
        {
          "output_type": "execute_result",
          "data": {
            "text/plain": [
              "938"
            ]
          },
          "metadata": {},
          "execution_count": 129
        }
      ]
    },
    {
      "cell_type": "code",
      "execution_count": 146,
      "id": "be3da76c-6b08-40f1-b28c-751e11a6c698",
      "metadata": {
        "colab": {
          "base_uri": "https://localhost:8080/"
        },
        "collapsed": true,
        "id": "be3da76c-6b08-40f1-b28c-751e11a6c698",
        "outputId": "380186d0-67cd-495f-f35b-b2c8981906c5"
      },
      "outputs": [
        {
          "output_type": "stream",
          "name": "stdout",
          "text": [
            "Number of parameters: 6442\n",
            "Train Epoch: 0 [0/60000 (0%)]\tLoss: 2.282850\n",
            "Train Epoch: 0 [6400/60000 (11%)]\tLoss: 1.623367\n",
            "Train Epoch: 0 [12800/60000 (21%)]\tLoss: 1.255997\n",
            "Train Epoch: 0 [19200/60000 (32%)]\tLoss: 0.797050\n",
            "Train Epoch: 0 [25600/60000 (43%)]\tLoss: 0.824659\n",
            "Train Epoch: 0 [32000/60000 (53%)]\tLoss: 0.464226\n",
            "Train Epoch: 0 [38400/60000 (64%)]\tLoss: 0.684606\n",
            "Train Epoch: 0 [44800/60000 (75%)]\tLoss: 0.487644\n",
            "Train Epoch: 0 [51200/60000 (85%)]\tLoss: 0.400313\n",
            "Train Epoch: 0 [57600/60000 (96%)]\tLoss: 0.547074\n",
            "train_loss: 0.8438195141870329\n",
            "\n",
            "Test set: Average loss: 0.4154, Accuracy: 8808/10000 (88%)\n",
            "\n"
          ]
        }
      ],
      "source": [
        "n_hidden = 8 # number of hidden units\n",
        "\n",
        "model_fnn = FC2Layer(input_size, n_hidden, output_size)\n",
        "model_fnn.to(device)\n",
        "optimizer = optim.SGD(model_fnn.parameters(), lr=0.01, momentum=0.5)\n",
        "print('Number of parameters: {}'.format(get_n_params(model_fnn)))\n",
        "\n",
        "for epoch in range(0, 1):\n",
        "    train(epoch, model_fnn, optimizer)\n",
        "    test(model_fnn)"
      ]
    },
    {
      "cell_type": "code",
      "execution_count": 147,
      "id": "053418da-d315-4860-99e3-f65e9d5a8ca6",
      "metadata": {
        "colab": {
          "base_uri": "https://localhost:8080/"
        },
        "id": "053418da-d315-4860-99e3-f65e9d5a8ca6",
        "outputId": "2193e567-95ce-4844-bcd8-3216116940cf"
      },
      "outputs": [
        {
          "output_type": "stream",
          "name": "stdout",
          "text": [
            "Number of parameters: 6422\n",
            "Train Epoch: 0 [0/60000 (0%)]\tLoss: 2.319079\n",
            "Train Epoch: 0 [6400/60000 (11%)]\tLoss: 2.077606\n",
            "Train Epoch: 0 [12800/60000 (21%)]\tLoss: 0.471333\n",
            "Train Epoch: 0 [19200/60000 (32%)]\tLoss: 0.315733\n",
            "Train Epoch: 0 [25600/60000 (43%)]\tLoss: 0.325085\n",
            "Train Epoch: 0 [32000/60000 (53%)]\tLoss: 0.215331\n",
            "Train Epoch: 0 [38400/60000 (64%)]\tLoss: 0.127566\n",
            "Train Epoch: 0 [44800/60000 (75%)]\tLoss: 0.318100\n",
            "Train Epoch: 0 [51200/60000 (85%)]\tLoss: 0.153578\n",
            "Train Epoch: 0 [57600/60000 (96%)]\tLoss: 0.240713\n",
            "train_loss: 0.5614252062693142\n",
            "\n",
            "Test set: Average loss: 0.1695, Accuracy: 9491/10000 (95%)\n",
            "\n"
          ]
        }
      ],
      "source": [
        "# Training settings\n",
        "n_features = 6 # number of feature maps\n",
        "\n",
        "\n",
        "model_cnn = CNN(input_size, n_features, output_size)\n",
        "model_cnn.to(device)\n",
        "optimizer = optim.SGD(model_cnn.parameters(), lr=0.01, momentum=0.5)\n",
        "print('Number of parameters: {}'.format(get_n_params(model_cnn)))\n",
        "\n",
        "for epoch in range(0, 1):\n",
        "    train(epoch, model_cnn, optimizer)\n",
        "    test(model_cnn)"
      ]
    },
    {
      "cell_type": "markdown",
      "id": "e9f831af-b1c4-4016-a1a4-96fdff3e774a",
      "metadata": {
        "id": "e9f831af-b1c4-4016-a1a4-96fdff3e774a"
      },
      "source": [
        "The CNN performs much better that an MLP on images.\n",
        "\n",
        "Now let's try to shuffle the pixels!"
      ]
    },
    {
      "cell_type": "code",
      "source": [
        "perm.size()"
      ],
      "metadata": {
        "id": "UHeskRXtQU1m",
        "outputId": "145239ff-02c5-4ee0-ae70-996ebe452c5b",
        "colab": {
          "base_uri": "https://localhost:8080/"
        }
      },
      "id": "UHeskRXtQU1m",
      "execution_count": 132,
      "outputs": [
        {
          "output_type": "execute_result",
          "data": {
            "text/plain": [
              "torch.Size([784])"
            ]
          },
          "metadata": {},
          "execution_count": 132
        }
      ]
    },
    {
      "cell_type": "code",
      "execution_count": 133,
      "id": "29e84413-4a7a-4628-8ee2-56c9f8e5e6f4",
      "metadata": {
        "colab": {
          "base_uri": "https://localhost:8080/",
          "height": 961
        },
        "id": "29e84413-4a7a-4628-8ee2-56c9f8e5e6f4",
        "outputId": "8dfedf6a-8c5a-4eb9-f72f-315925c8e58b"
      },
      "outputs": [
        {
          "output_type": "display_data",
          "data": {
            "text/plain": [
              "<Figure size 1600x1200 with 20 Axes>"
            ],
            "image/png": "[encoded data removed]"
          },
          "metadata": {}
        }
      ],
      "source": [
        "perm = torch.randperm(784)\n",
        "plt.figure(figsize=(16, 12))\n",
        "for i in range(10):\n",
        "    image, _ = train_loader.dataset.__getitem__(i)\n",
        "    # permute pixels\n",
        "    image_perm = image.view(-1, 28*28).clone()\n",
        "    image_perm = image_perm[:, perm]\n",
        "    image_perm = image_perm.view(-1, 1, 28, 28)\n",
        "    plt.subplot(4, 5, i + 1)\n",
        "    plt.imshow(to_pil(denorm_mnist(image.squeeze())))\n",
        "    plt.axis('off')\n",
        "    plt.subplot(4, 5, i + 11)\n",
        "    plt.imshow(to_pil(denorm_mnist(image_perm.squeeze())))\n",
        "    plt.axis('off')"
      ]
    },
    {
      "cell_type": "markdown",
      "id": "d0cff7c8-22ec-4f42-b39c-6114743b58d0",
      "metadata": {
        "id": "d0cff7c8-22ec-4f42-b39c-6114743b58d0"
      },
      "source": [
        "### How the CNN will perform now?"
      ]
    },
    {
      "cell_type": "code",
      "execution_count": 148,
      "id": "f467d096-71b5-46e4-baaf-18332821b7f3",
      "metadata": {
        "colab": {
          "base_uri": "https://localhost:8080/"
        },
        "id": "f467d096-71b5-46e4-baaf-18332821b7f3",
        "outputId": "06743d9a-0896-43d8-9e81-8ff888126f87"
      },
      "outputs": [
        {
          "output_type": "stream",
          "name": "stdout",
          "text": [
            "Number of parameters: 6422\n",
            "Train Epoch: 0 [0/60000 (0%)]\tLoss: 2.304191\n",
            "Train Epoch: 0 [6400/60000 (11%)]\tLoss: 2.268930\n",
            "Train Epoch: 0 [12800/60000 (21%)]\tLoss: 2.160165\n",
            "Train Epoch: 0 [19200/60000 (32%)]\tLoss: 1.934260\n",
            "Train Epoch: 0 [25600/60000 (43%)]\tLoss: 1.357982\n",
            "Train Epoch: 0 [32000/60000 (53%)]\tLoss: 1.104520\n",
            "Train Epoch: 0 [38400/60000 (64%)]\tLoss: 0.835409\n",
            "Train Epoch: 0 [44800/60000 (75%)]\tLoss: 0.731025\n",
            "Train Epoch: 0 [51200/60000 (85%)]\tLoss: 0.933448\n",
            "Train Epoch: 0 [57600/60000 (96%)]\tLoss: 0.494432\n",
            "train_loss: 1.354606275397069\n",
            "\n",
            "Test set: Average loss: 0.6021, Accuracy: 8128/10000 (81%)\n",
            "\n"
          ]
        }
      ],
      "source": [
        "# Training settings\n",
        "n_features = 6 # number of feature maps\n",
        "\n",
        "model_cnn = CNN(input_size, n_features, output_size)\n",
        "model_cnn.to(device)\n",
        "optimizer = optim.SGD(model_cnn.parameters(), lr=0.01, momentum=0.5)\n",
        "print('Number of parameters: {}'.format(get_n_params(model_cnn)))\n",
        "\n",
        "for epoch in range(0, 1):\n",
        "    train(epoch, model_cnn, optimizer, perm)\n",
        "    test(model_cnn, perm)"
      ]
    },
    {
      "cell_type": "markdown",
      "id": "4c65a14e-3923-4473-92e4-619b880743e7",
      "metadata": {
        "id": "4c65a14e-3923-4473-92e4-619b880743e7"
      },
      "source": [
        "### How about the MLP?"
      ]
    },
    {
      "cell_type": "code",
      "execution_count": 149,
      "id": "6e0b3f64-c948-40f1-af46-e0e46dfbfd13",
      "metadata": {
        "colab": {
          "base_uri": "https://localhost:8080/"
        },
        "id": "6e0b3f64-c948-40f1-af46-e0e46dfbfd13",
        "outputId": "9a41da14-70f6-463c-e742-c900d1b509b6"
      },
      "outputs": [
        {
          "output_type": "stream",
          "name": "stdout",
          "text": [
            "Number of parameters: 6442\n",
            "Train Epoch: 0 [0/60000 (0%)]\tLoss: 2.308785\n",
            "Train Epoch: 0 [6400/60000 (11%)]\tLoss: 1.676779\n",
            "Train Epoch: 0 [12800/60000 (21%)]\tLoss: 0.849634\n",
            "Train Epoch: 0 [19200/60000 (32%)]\tLoss: 0.718013\n",
            "Train Epoch: 0 [25600/60000 (43%)]\tLoss: 0.465942\n",
            "Train Epoch: 0 [32000/60000 (53%)]\tLoss: 0.354153\n",
            "Train Epoch: 0 [38400/60000 (64%)]\tLoss: 0.441306\n",
            "Train Epoch: 0 [44800/60000 (75%)]\tLoss: 0.427382\n",
            "Train Epoch: 0 [51200/60000 (85%)]\tLoss: 0.407529\n",
            "Train Epoch: 0 [57600/60000 (96%)]\tLoss: 0.412390\n",
            "train_loss: 0.7584771108525649\n",
            "\n",
            "Test set: Average loss: 0.4418, Accuracy: 8687/10000 (87%)\n",
            "\n"
          ]
        }
      ],
      "source": [
        "n_hidden = 8    # number of hidden units\n",
        "\n",
        "model_fnn = FC2Layer(input_size, n_hidden, output_size)\n",
        "model_fnn.to(device)\n",
        "optimizer = optim.SGD(model_fnn.parameters(), lr=0.01, momentum=0.5)\n",
        "print('Number of parameters: {}'.format(get_n_params(model_fnn)))\n",
        "\n",
        "for epoch in range(0, 1):\n",
        "    train(epoch, model_fnn, optimizer, perm)\n",
        "    test(model_fnn, perm)"
      ]
    },
    {
      "cell_type": "markdown",
      "id": "4231526d-b194-477f-a36b-e013853ca5bf",
      "metadata": {
        "id": "4231526d-b194-477f-a36b-e013853ca5bf"
      },
      "source": [
        "### The CNN performances dropped!!!\n",
        "WHY? The concept of locality was lost: pixel are no longer stationary on a grid"
      ]
    },
    {
      "cell_type": "code",
      "source": [
        "accuracy_list"
      ],
      "metadata": {
        "id": "l25_mRlVRWLF",
        "outputId": "45e58bd0-643f-4c8f-f14b-09ec63507814",
        "colab": {
          "base_uri": "https://localhost:8080/"
        }
      },
      "id": "l25_mRlVRWLF",
      "execution_count": 150,
      "outputs": [
        {
          "output_type": "execute_result",
          "data": {
            "text/plain": [
              "[88.08, 94.91, 81.28, 86.87]"
            ]
          },
          "metadata": {},
          "execution_count": 150
        }
      ]
    },
    {
      "cell_type": "code",
      "execution_count": 151,
      "id": "a01ec1c8-a8ce-4bc0-b0cc-c8cfe16fed09",
      "metadata": {
        "colab": {
          "base_uri": "https://localhost:8080/",
          "height": 849
        },
        "id": "a01ec1c8-a8ce-4bc0-b0cc-c8cfe16fed09",
        "outputId": "cccba50e-d7d9-4e1c-db57-aa9c30510b90"
      },
      "outputs": [
        {
          "output_type": "display_data",
          "data": {
            "text/plain": [
              "<Figure size 1000x1000 with 1 Axes>"
            ],
            "image/png": "[encoded data removed]"
          },
          "metadata": {}
        }
      ],
      "source": [
        "plt.bar(('NN image', 'CNN image',\n",
        "         'CNN scrambled', 'NN scrambled'),\n",
        "        accuracy_list, width=0.4, color = ['red', 'green', 'green', 'red'])\n",
        "plt.ylim((min(accuracy_list)-5, 96))\n",
        "plt.ylabel('Accuracy [%]')\n",
        "plt.title('Performance comparison');"
      ]
    },
    {
      "cell_type": "code",
      "execution_count": null,
      "id": "4bd62491-cd2a-4b7c-a457-89f50aa28851",
      "metadata": {
        "id": "4bd62491-cd2a-4b7c-a457-89f50aa28851"
      },
      "outputs": [],
      "source": []
    }
  ],
  "metadata": {
    "kernelspec": {
      "display_name": "Python 3 (ipykernel)",
      "language": "python",
      "name": "python3"
    },
    "language_info": {
      "codemirror_mode": {
        "name": "ipython",
        "version": 3
      },
      "file_extension": ".py",
      "mimetype": "text/x-python",
      "name": "python",
      "nbconvert_exporter": "python",
      "pygments_lexer": "ipython3",
      "version": "3.12.7"
    },
    "colab": {
      "provenance": [],
      "include_colab_link": true
    }
  },
  "nbformat": 4,
  "nbformat_minor": 5
}